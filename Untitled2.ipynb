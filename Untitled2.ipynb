{
  "nbformat": 4,
  "nbformat_minor": 0,
  "metadata": {
    "colab": {
      "name": "Untitled2.ipynb",
      "provenance": [],
      "collapsed_sections": [],
      "authorship_tag": "ABX9TyNqQ1xjAx3SxIFidZ15z5S4",
      "include_colab_link": true
    },
    "kernelspec": {
      "name": "python3",
      "display_name": "Python 3"
    }
  },
  "cells": [
    {
      "cell_type": "markdown",
      "metadata": {
        "id": "view-in-github",
        "colab_type": "text"
      },
      "source": [
        "<a href=\"https://colab.research.google.com/github/preethimaliMalki/Dinmore/blob/master/Untitled2.ipynb\" target=\"_parent\"><img src=\"https://colab.research.google.com/assets/colab-badge.svg\" alt=\"Open In Colab\"/></a>"
      ]
    },
    {
      "cell_type": "code",
      "metadata": {
        "id": "HuSF90U1QFy1",
        "outputId": "8be668bf-6ab6-4fdc-a983-04b24e7895e0",
        "colab": {
          "base_uri": "https://localhost:8080/",
          "height": 34
        }
      },
      "source": [
        "print(\"hello world\")\n"
      ],
      "execution_count": null,
      "outputs": [
        {
          "output_type": "stream",
          "text": [
            "hello world\n"
          ],
          "name": "stdout"
        }
      ]
    },
    {
      "cell_type": "code",
      "metadata": {
        "id": "ZBqSiCOOa5-p"
      },
      "source": [
        "#print(\"hello world\")\n",
        "#new message"
      ],
      "execution_count": null,
      "outputs": []
    },
    {
      "cell_type": "code",
      "metadata": {
        "id": "wzJTsL27bQD7",
        "outputId": "25a2c54e-aa21-4907-dd1d-38c61fd8cf41",
        "colab": {
          "base_uri": "https://localhost:8080/",
          "height": 34
        }
      },
      "source": [
        "'''\n",
        "test comment\n",
        "\n",
        "'''\n",
        "print(\"a\")"
      ],
      "execution_count": null,
      "outputs": [
        {
          "output_type": "stream",
          "text": [
            "a\n"
          ],
          "name": "stdout"
        }
      ]
    },
    {
      "cell_type": "code",
      "metadata": {
        "id": "V2ViaKFNbatN",
        "outputId": "a952f0ec-843e-47d7-bb94-7ca0036276be",
        "colab": {
          "base_uri": "https://localhost:8080/",
          "height": 34
        }
      },
      "source": [
        "\"\"\"\n",
        "Test comment\n",
        "\n",
        "\"\"\"\n",
        "print(\"b\")"
      ],
      "execution_count": null,
      "outputs": [
        {
          "output_type": "stream",
          "text": [
            "b\n"
          ],
          "name": "stdout"
        }
      ]
    },
    {
      "cell_type": "code",
      "metadata": {
        "id": "2YSdYVmGcAVD",
        "outputId": "67b20d10-a927-475f-9ec9-0d4e33bfb2a8",
        "colab": {
          "base_uri": "https://localhost:8080/",
          "height": 34
        }
      },
      "source": [
        "a=15\n",
        "if a>10:\n",
        "  print(\"a is greater than 10\")\n",
        "else:\n",
        "  print(\"a is less than 10\")  "
      ],
      "execution_count": null,
      "outputs": [
        {
          "output_type": "stream",
          "text": [
            "a is greater than 10\n"
          ],
          "name": "stdout"
        }
      ]
    },
    {
      "cell_type": "code",
      "metadata": {
        "id": "SOp-3ckegehj"
      },
      "source": [
        "c1 = True\n",
        "c2 =False\n",
        "\n"
      ],
      "execution_count": null,
      "outputs": []
    },
    {
      "cell_type": "code",
      "metadata": {
        "id": "TwqeDYAeivZ2",
        "outputId": "c695d93e-fa36-46bd-9d11-baa45742c852",
        "colab": {
          "base_uri": "https://localhost:8080/",
          "height": 34
        }
      },
      "source": [
        "c3 = c1 or c2\n",
        "print(c3)"
      ],
      "execution_count": null,
      "outputs": [
        {
          "output_type": "stream",
          "text": [
            "True\n"
          ],
          "name": "stdout"
        }
      ]
    },
    {
      "cell_type": "code",
      "metadata": {
        "id": "XLH3YKyLi45-",
        "outputId": "20e0a82d-039a-43f1-a7dd-323130cd1180",
        "colab": {
          "base_uri": "https://localhost:8080/",
          "height": 34
        }
      },
      "source": [
        "c4 = c1 and c2\n",
        "print(c4)"
      ],
      "execution_count": null,
      "outputs": [
        {
          "output_type": "stream",
          "text": [
            "False\n"
          ],
          "name": "stdout"
        }
      ]
    },
    {
      "cell_type": "code",
      "metadata": {
        "id": "hvHocoGQjCKs",
        "outputId": "5ce9daef-1fbd-4ea7-8800-2c290ea8d52d",
        "colab": {
          "base_uri": "https://localhost:8080/",
          "height": 34
        }
      },
      "source": [
        "a,b = 10,15\n",
        "\n",
        "if a>5:\n",
        "  print(\"a is greater than 5\")\n",
        "elif a==10:\n",
        "  print(\"a is eqaul to 10\")  \n",
        "else:\n",
        "  print(\"a is greater than 10\")  "
      ],
      "execution_count": null,
      "outputs": [
        {
          "output_type": "stream",
          "text": [
            "a is greater than 5\n"
          ],
          "name": "stdout"
        }
      ]
    },
    {
      "cell_type": "code",
      "metadata": {
        "id": "ULsQXUEqbrpn",
        "outputId": "1e751c84-344a-49a1-9b5d-7fce0707d10b",
        "colab": {
          "base_uri": "https://localhost:8080/",
          "height": 34
        }
      },
      "source": [
        "ls =range(3)\n",
        "print(ls)"
      ],
      "execution_count": null,
      "outputs": [
        {
          "output_type": "stream",
          "text": [
            "range(0, 3)\n"
          ],
          "name": "stdout"
        }
      ]
    },
    {
      "cell_type": "code",
      "metadata": {
        "id": "f--NcjGUsYkP",
        "outputId": "50a8b32e-0263-4caa-cd6f-f436351d96a4",
        "colab": {
          "base_uri": "https://localhost:8080/",
          "height": 34
        }
      },
      "source": [
        "range(5,10)\n"
      ],
      "execution_count": null,
      "outputs": [
        {
          "output_type": "execute_result",
          "data": {
            "text/plain": [
              "range(5, 10)"
            ]
          },
          "metadata": {
            "tags": []
          },
          "execution_count": 14
        }
      ]
    },
    {
      "cell_type": "code",
      "metadata": {
        "id": "e5wiXDuQsdKF",
        "outputId": "c0ef417d-4d4e-4f35-b17f-48cec5c0c288",
        "colab": {
          "base_uri": "https://localhost:8080/",
          "height": 68
        }
      },
      "source": [
        "for a in range(3):\n",
        "  print(a)"
      ],
      "execution_count": null,
      "outputs": [
        {
          "output_type": "stream",
          "text": [
            "0\n",
            "1\n",
            "2\n"
          ],
          "name": "stdout"
        }
      ]
    },
    {
      "cell_type": "code",
      "metadata": {
        "id": "ZBzn-po0sovL",
        "outputId": "40af7745-1519-4378-e1cd-d8e11c555ead",
        "colab": {
          "base_uri": "https://localhost:8080/",
          "height": 102
        }
      },
      "source": [
        "for a in range(5,10):\n",
        "  print(a)"
      ],
      "execution_count": null,
      "outputs": [
        {
          "output_type": "stream",
          "text": [
            "5\n",
            "6\n",
            "7\n",
            "8\n",
            "9\n"
          ],
          "name": "stdout"
        }
      ]
    },
    {
      "cell_type": "code",
      "metadata": {
        "id": "d6jstNG_swz9",
        "outputId": "8328c21e-7323-4e7f-bd02-3170f4b065f1",
        "colab": {
          "base_uri": "https://localhost:8080/",
          "height": 170
        }
      },
      "source": [
        "for k in range(3):\n",
        "  for p in range(4,7):\n",
        "    print(k,p)\n",
        "  \n",
        "  "
      ],
      "execution_count": null,
      "outputs": [
        {
          "output_type": "stream",
          "text": [
            "0 4\n",
            "0 5\n",
            "0 6\n",
            "1 4\n",
            "1 5\n",
            "1 6\n",
            "2 4\n",
            "2 5\n",
            "2 6\n"
          ],
          "name": "stdout"
        }
      ]
    },
    {
      "cell_type": "code",
      "metadata": {
        "id": "W_YuXOVMuOFE",
        "outputId": "ecb12f0e-cb89-4dfa-f41d-72b1250d027f",
        "colab": {
          "base_uri": "https://localhost:8080/",
          "height": 187
        }
      },
      "source": [
        "for i in range(10):\n",
        "  for r in range(i):\n",
        "    print(\"*\",end=\"\")\n",
        "  print()"
      ],
      "execution_count": null,
      "outputs": [
        {
          "output_type": "stream",
          "text": [
            "\n",
            "*\n",
            "**\n",
            "***\n",
            "****\n",
            "*****\n",
            "******\n",
            "*******\n",
            "********\n",
            "*********\n"
          ],
          "name": "stdout"
        }
      ]
    },
    {
      "cell_type": "code",
      "metadata": {
        "id": "XbQ5fJbLuPdi",
        "outputId": "3de1acfc-5ebd-4bd8-82f2-85cdb5202c2e",
        "colab": {
          "base_uri": "https://localhost:8080/",
          "height": 187
        }
      },
      "source": [
        "for i in range(10):\n",
        "  for r in range(10-i):\n",
        "    print(\" \",end=\"\")\n",
        "  for r in range(i-1):\n",
        "    print(\"*\",end=\"\")\n",
        "  print()"
      ],
      "execution_count": null,
      "outputs": [
        {
          "output_type": "stream",
          "text": [
            "          \n",
            "         \n",
            "        *\n",
            "       **\n",
            "      ***\n",
            "     ****\n",
            "    *****\n",
            "   ******\n",
            "  *******\n",
            " ********\n"
          ],
          "name": "stdout"
        }
      ]
    },
    {
      "cell_type": "code",
      "metadata": {
        "id": "Mjl8FM5s-nh_",
        "outputId": "f88762d3-c03f-4b39-94d6-9fa637b55316",
        "colab": {
          "base_uri": "https://localhost:8080/",
          "height": 187
        }
      },
      "source": [
        "for i in reversed(range(5)):\n",
        "  for r in range(5-i):\n",
        "    print(\" \",end=\"\")\n",
        "  for r in range(2*i-1):\n",
        "    print(\"*\",end=\"\")\n",
        "  print() \n",
        "for p in range(5):\n",
        "  for k in range(5-p):\n",
        "   print(\" \",end=\"\")\n",
        "  for p in range(2*p-1):\n",
        "    print(\"*\",end=\"\")\n",
        "  print()"
      ],
      "execution_count": null,
      "outputs": [
        {
          "output_type": "stream",
          "text": [
            " *******\n",
            "  *****\n",
            "   ***\n",
            "    *\n",
            "     \n",
            "     \n",
            "    *\n",
            "   ***\n",
            "  *****\n",
            " *******\n"
          ],
          "name": "stdout"
        }
      ]
    },
    {
      "cell_type": "code",
      "metadata": {
        "id": "7E7UQLjw-yP9",
        "outputId": "59a329bb-c538-4547-f420-d535a52d834a",
        "colab": {
          "base_uri": "https://localhost:8080/",
          "height": 170
        }
      },
      "source": [
        "for i in range(5):\n",
        "    print(\" \"*(5-i), \"*\"*(i*2+1))\n",
        "for i in range(5-2, -1, -1):\n",
        "    print(\" \"*(5-i), \"*\"*(i*2+1))"
      ],
      "execution_count": null,
      "outputs": [
        {
          "output_type": "stream",
          "text": [
            "      *\n",
            "     ***\n",
            "    *****\n",
            "   *******\n",
            "  *********\n",
            "   *******\n",
            "    *****\n",
            "     ***\n",
            "      *\n"
          ],
          "name": "stdout"
        }
      ]
    },
    {
      "cell_type": "code",
      "metadata": {
        "id": "PDyiNQ0VCCYo",
        "outputId": "be59d807-c15b-4ff7-ef81-a768975e9de2",
        "colab": {
          "base_uri": "https://localhost:8080/",
          "height": 170
        }
      },
      "source": [
        "    \n",
        "    for i in range(5):\n",
        "        print(\" \"*i + \"*\"*(2*(5-i)-1))\n",
        "    for j in range(5-1, 0,-1):\n",
        "        print(\" \"*(j-1) + \"*\"*(2*(5-j) + 1))\n"
      ],
      "execution_count": null,
      "outputs": [
        {
          "output_type": "stream",
          "text": [
            "*********\n",
            " *******\n",
            "  *****\n",
            "   ***\n",
            "    *\n",
            "   ***\n",
            "  *****\n",
            " *******\n",
            "*********\n"
          ],
          "name": "stdout"
        }
      ]
    },
    {
      "cell_type": "code",
      "metadata": {
        "id": "8OGkn8GqIPPz",
        "outputId": "70c1784e-e8fc-4ee2-f912-7c4f242e768b",
        "colab": {
          "base_uri": "https://localhost:8080/",
          "height": 187
        }
      },
      "source": [
        "for i in range(5):\n",
        "   print(\" \"*i+\"*\"*(5-i))\n",
        "for j in range(1, 5+1):\n",
        "    print(\" \"*(5-j)+\"*\"*j)\n"
      ],
      "execution_count": null,
      "outputs": [
        {
          "output_type": "stream",
          "text": [
            "*****\n",
            " ****\n",
            "  ***\n",
            "   **\n",
            "    *\n",
            "    *\n",
            "   **\n",
            "  ***\n",
            " ****\n",
            "*****\n"
          ],
          "name": "stdout"
        }
      ]
    }
  ]
}